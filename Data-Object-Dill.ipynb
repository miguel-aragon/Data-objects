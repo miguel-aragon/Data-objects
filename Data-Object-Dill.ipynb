{
 "cells": [
  {
   "cell_type": "markdown",
   "id": "2406311b-844f-471e-ab25-6f3a391dfef2",
   "metadata": {},
   "source": [
    "### This notebook shows how to store in a single file a numpy array and the methods to handle it. It uses the dill library, an extension of pickle. "
   ]
  },
  {
   "cell_type": "code",
   "execution_count": null,
   "id": "db78a159-30b4-40ca-80a5-44aadbcefbe9",
   "metadata": {},
   "outputs": [],
   "source": [
    "import dill\n",
    "import numpy as np\n",
    "import matplotlib.pyplot as plt"
   ]
  },
  {
   "cell_type": "markdown",
   "id": "54ba0f0c-23e3-42fd-b76b-ea4922e3e282",
   "metadata": {},
   "source": [
    "### Lets define a class to store a numpy array and some useful methods. We will also add some auxiliary methods to allows us to store an instantiated object, data and methods."
   ]
  },
  {
   "cell_type": "code",
   "execution_count": null,
   "id": "5d34f19c-aac2-44b0-bdbe-19f8f8d3d974",
   "metadata": {},
   "outputs": [],
   "source": [
    "#---\n",
    "class ArrayHandler:\n",
    "    def __init__(self, data):\n",
    "        self.data = data\n",
    "\n",
    "    def get_value(self, index):\n",
    "        \"\"\"Return the value at the given index.\"\"\"\n",
    "        if 0 <= index < len(self.data):\n",
    "            return self.data[index]\n",
    "        else:\n",
    "            raise IndexError(\"Index out of bounds\")\n",
    "\n",
    "    def plot(self):\n",
    "        \"\"\"Display the array as a plot.\"\"\"\n",
    "        import matplotlib.pyplot as plt\n",
    "        plt.plot(self.data)\n",
    "        plt.title(\"Array Plot\")\n",
    "        plt.xlabel(\"Index\")\n",
    "        plt.ylabel(\"Value\")\n",
    "        plt.grid()\n",
    "        plt.show()\n",
    "\n",
    "    def compute_statistics(self):\n",
    "        \"\"\"Compute and return basic statistics of the array.\"\"\"\n",
    "        return {\n",
    "            \"mean\": sum(self.data) / len(self.data),\n",
    "            \"max\": max(self.data),\n",
    "            \"min\": min(self.data),\n",
    "        }\n",
    "\n",
    "    def help(self):\n",
    "        \"\"\"Display the methods, their descriptions, and signatures.\"\"\"\n",
    "        methods = [method for method in dir(self) if callable(getattr(self, method)) and not method.startswith(\"__\")]\n",
    "        print(\"Available methods and their descriptions:\")\n",
    "        for method_name in methods:\n",
    "            method = getattr(self, method_name)\n",
    "            signature = inspect.signature(method)\n",
    "            doc = method.__doc__ if method.__doc__ else \"No description available.\"\n",
    "            print(f\"{method_name}{signature}: {doc}\")\n",
    "    \n",
    "    def __getstate__(self):\n",
    "        \"\"\"Customize the state for serialization.\"\"\"\n",
    "        state = self.__dict__.copy()\n",
    "        # Include method descriptions\n",
    "        state['method_descriptions'] = {\n",
    "            'get_value':          self.get_value.__doc__,\n",
    "            'plot':               self.plot.__doc__,\n",
    "            'compute_statistics': self.compute_statistics.__doc__,\n",
    "        }\n",
    "        return state\n",
    "\n",
    "    def __setstate__(self, state):\n",
    "        \"\"\"Restore the state from the serialized state.\"\"\"\n",
    "        self.__dict__.update(state)\n",
    "        # Restore method descriptions if needed\n",
    "        # Not necessary to restore method descriptions on deserialization\n",
    "\n"
   ]
  },
  {
   "cell_type": "markdown",
   "id": "691fd6a8-cdab-400b-b245-e960dc84c91a",
   "metadata": {},
   "source": [
    "### Now we create and save an object using dill (a fancier pickle). The .dill file will contain the serialized object."
   ]
  },
  {
   "cell_type": "code",
   "execution_count": null,
   "id": "89ce580e-cc6c-43ee-bf55-84270c7b40ea",
   "metadata": {},
   "outputs": [],
   "source": [
    "# Create an instance of the class\n",
    "data = [1, 2, 3, 4, 5]\n",
    "array_handler = ArrayHandler(data)\n",
    "\n",
    "# Serialize the object to a file\n",
    "with open(\"array_handler.dill\", \"wb\") as outfile:\n",
    "    dill.dump(array_handler, outfile)"
   ]
  },
  {
   "cell_type": "code",
   "execution_count": null,
   "id": "abbf13cb-e3e6-405b-84f2-decaadcc74a7",
   "metadata": {},
   "outputs": [],
   "source": []
  },
  {
   "cell_type": "markdown",
   "id": "37160bb4-ca0b-46c4-b54f-66848fa964c8",
   "metadata": {},
   "source": [
    "***\n",
    "***\n",
    "### Restart notebook and run from here"
   ]
  },
  {
   "cell_type": "code",
   "execution_count": 1,
   "id": "3b2cbb9b-e878-4ca8-94e8-7d2b5441c795",
   "metadata": {},
   "outputs": [],
   "source": [
    "import dill\n",
    "import numpy as np\n",
    "import matplotlib.pyplot as plt\n",
    "import inspect"
   ]
  },
  {
   "cell_type": "markdown",
   "id": "39743e12-7d16-4f1e-be91-3decbd7a4545",
   "metadata": {},
   "source": [
    "### Read serialized object, note that the object has also its methods stored"
   ]
  },
  {
   "cell_type": "code",
   "execution_count": 4,
   "id": "7f4ae0ea-a626-418b-89f7-ebf88dfe0a2a",
   "metadata": {},
   "outputs": [],
   "source": [
    "\n",
    "#--- Deserialize the object from the file\n",
    "with open(\"array_handler.dill\", \"rb\") as infile:\n",
    "    sdss = dill.load(infile)\n"
   ]
  },
  {
   "cell_type": "code",
   "execution_count": 5,
   "id": "9081cda6-f365-4986-b753-0aea2a7b5930",
   "metadata": {},
   "outputs": [
    {
     "name": "stdout",
     "output_type": "stream",
     "text": [
      "Available methods and their descriptions:\n",
      "compute_statistics(): Compute and return basic statistics of the array.\n",
      "get_value(index): Return the value at the given index.\n",
      "help(): Display the methods, their descriptions, and signatures.\n",
      "plot(): Display the array as a plot.\n"
     ]
    }
   ],
   "source": [
    "sdss.help()"
   ]
  },
  {
   "cell_type": "code",
   "execution_count": 6,
   "id": "0252514e-47d0-4fe3-a6bd-6dd798f626ac",
   "metadata": {},
   "outputs": [
    {
     "data": {
      "image/png": "[encoded data removed]",
      "text/plain": [
       "<Figure size 640x480 with 1 Axes>"
      ]
     },
     "metadata": {},
     "output_type": "display_data"
    }
   ],
   "source": [
    "sdss.plot()"
   ]
  },
  {
   "cell_type": "code",
   "execution_count": null,
   "id": "a299fac4-bd64-4fd7-a352-9ba1f003869a",
   "metadata": {},
   "outputs": [],
   "source": []
  },
  {
   "cell_type": "code",
   "execution_count": null,
   "id": "cf7fa725-9558-4972-ac6d-13be7c6f41c4",
   "metadata": {},
   "outputs": [],
   "source": []
  },
  {
   "cell_type": "code",
   "execution_count": null,
   "id": "26b2d1c1-540f-41cb-9de1-b6dd550a2768",
   "metadata": {},
   "outputs": [],
   "source": []
  },
  {
   "cell_type": "code",
   "execution_count": null,
   "id": "8a36804a-164a-4467-a73f-a2b522675626",
   "metadata": {},
   "outputs": [],
   "source": []
  },
  {
   "cell_type": "code",
   "execution_count": null,
   "id": "882ed022-20a0-4132-ac04-bbd60eaebc33",
   "metadata": {},
   "outputs": [],
   "source": []
  },
  {
   "cell_type": "code",
   "execution_count": null,
   "id": "a4025162-4915-4953-b578-8ad38f8a81d6",
   "metadata": {},
   "outputs": [],
   "source": []
  },
  {
   "cell_type": "code",
   "execution_count": null,
   "id": "0fbd4ea2-6a53-49f4-ac55-7896426d8211",
   "metadata": {},
   "outputs": [],
   "source": []
  },
  {
   "cell_type": "code",
   "execution_count": null,
   "id": "da4e9b24-268e-4ff5-bc63-c18592f26a6f",
   "metadata": {},
   "outputs": [],
   "source": []
  },
  {
   "cell_type": "code",
   "execution_count": null,
   "id": "c2f6e789-3ad5-4840-83a0-5d2b85dc1c10",
   "metadata": {},
   "outputs": [],
   "source": []
  }
 ],
 "metadata": {
  "kernelspec": {
   "display_name": "Python 3 (ipykernel)",
   "language": "python",
   "name": "python3"
  },
  "language_info": {
   "codemirror_mode": {
    "name": "ipython",
    "version": 3
   },
   "file_extension": ".py",
   "mimetype": "text/x-python",
   "name": "python",
   "nbconvert_exporter": "python",
   "pygments_lexer": "ipython3",
   "version": "3.12.2"
  }
 },
 "nbformat": 4,
 "nbformat_minor": 5
}
